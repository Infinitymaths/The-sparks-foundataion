{
 "cells": [
  {
   "cell_type": "markdown",
   "id": "bec25902",
   "metadata": {},
   "source": [
    "# SIMPLE LINEAR REGRESSION"
   ]
  },
  {
   "cell_type": "markdown",
   "id": "b5399226",
   "metadata": {},
   "source": [
    "### In this regression task we will predict the percentage of marks that a student is expected to score based upon the number of hours they studied. This is a simple linear regression task as it involves just two variables."
   ]
  },
  {
   "cell_type": "markdown",
   "id": "aff698a7",
   "metadata": {},
   "source": [
    "#### Importing the libraries"
   ]
  },
  {
   "cell_type": "code",
   "execution_count": 2,
   "id": "5882bb4e",
   "metadata": {},
   "outputs": [],
   "source": [
    "import pandas as pd\n",
    "import numpy as np \n",
    "import matplotlib.pyplot as plt\n",
    "%matplotlib inline"
   ]
  },
  {
   "cell_type": "markdown",
   "id": "d6ab2569",
   "metadata": {},
   "source": [
    "# Importing the data set \n",
    "### In this we will be importing the dataset from the link given and then we will be checking what are the columns associated"
   ]
  },
  {
   "cell_type": "code",
   "execution_count": 3,
   "id": "62ca49ce",
   "metadata": {},
   "outputs": [
    {
     "name": "stdout",
     "output_type": "stream",
     "text": [
      "    Hours  Scores\n",
      "0     2.5      21\n",
      "1     5.1      47\n",
      "2     3.2      27\n",
      "3     8.5      75\n",
      "4     3.5      30\n",
      "5     1.5      20\n",
      "6     9.2      88\n",
      "7     5.5      60\n",
      "8     8.3      81\n",
      "9     2.7      25\n",
      "10    7.7      85\n",
      "11    5.9      62\n",
      "12    4.5      41\n",
      "13    3.3      42\n",
      "14    1.1      17\n",
      "15    8.9      95\n",
      "16    2.5      30\n",
      "17    1.9      24\n",
      "18    6.1      67\n",
      "19    7.4      69\n",
      "20    2.7      30\n",
      "21    4.8      54\n",
      "22    3.8      35\n",
      "23    6.9      76\n",
      "24    7.8      86\n"
     ]
    }
   ],
   "source": [
    "data = pd.read_csv(\"http://bit.ly/w-data\")\n",
    "print(data)"
   ]
  },
  {
   "cell_type": "markdown",
   "id": "d05bad49",
   "metadata": {},
   "source": [
    "### Lets plot out data and check the correlation of the points. Like how they are related to each other, are they strongly correlated or weakly correlated"
   ]
  },
  {
   "cell_type": "code",
   "execution_count": 4,
   "id": "26d840f9",
   "metadata": {},
   "outputs": [
    {
     "data": {
      "image/png": "[encoded data removed]",
      "text/plain": [
       "<Figure size 432x288 with 1 Axes>"
      ]
     },
     "metadata": {
      "needs_background": "light"
     },
     "output_type": "display_data"
    }
   ],
   "source": [
    "data.plot(x=\"Hours\",y=\"Scores\",style='o')\n",
    "plt.title(\"Hours vs precentage\")\n",
    "plt.xlabel(\"Hours studied\")\n",
    "plt.ylabel(\"Scores acheived\")\n",
    "plt.show()"
   ]
  },
  {
   "cell_type": "markdown",
   "id": "869b97ac",
   "metadata": {},
   "source": [
    "#### From the above graph this is clear that the points are strongly and positively correlated. since all the points are clustred together in a single space and secondly we can see that all the points approximately lie in the single line"
   ]
  },
  {
   "cell_type": "markdown",
   "id": "37b7baf5",
   "metadata": {},
   "source": [
    "### Now lets check the information if there is any NULL values. If there is no NULL values then lets seperate the Input variables(FEATURES) and Target."
   ]
  },
  {
   "cell_type": "code",
   "execution_count": 5,
   "id": "d82d27e3",
   "metadata": {},
   "outputs": [
    {
     "name": "stdout",
     "output_type": "stream",
     "text": [
      "<class 'pandas.core.frame.DataFrame'>\n",
      "RangeIndex: 25 entries, 0 to 24\n",
      "Data columns (total 2 columns):\n",
      " #   Column  Non-Null Count  Dtype  \n",
      "---  ------  --------------  -----  \n",
      " 0   Hours   25 non-null     float64\n",
      " 1   Scores  25 non-null     int64  \n",
      "dtypes: float64(1), int64(1)\n",
      "memory usage: 528.0 bytes\n"
     ]
    }
   ],
   "source": [
    "data.info()"
   ]
  },
  {
   "cell_type": "markdown",
   "id": "11fb8ea0",
   "metadata": {},
   "source": [
    "#### From above we can see that there is no null values. Because there are total 25 entries and in both the columns there are 25 Non-Null values\n",
    "#### Lets seperate the Features and Target"
   ]
  },
  {
   "cell_type": "code",
   "execution_count": 6,
   "id": "d2299921",
   "metadata": {},
   "outputs": [],
   "source": [
    "X = data.iloc[:,:-1].values\n",
    "y = data.iloc[:,1].values"
   ]
  },
  {
   "cell_type": "markdown",
   "id": "0a05388b",
   "metadata": {},
   "source": [
    "#### Lets divide the dataset into training and testing"
   ]
  },
  {
   "cell_type": "code",
   "execution_count": 21,
   "id": "b6e4cb37",
   "metadata": {},
   "outputs": [],
   "source": [
    "from sklearn.model_selection import train_test_split\n",
    "X_train,X_test,y_train,y_test = train_test_split(X,y,test_size=0.1,random_state=0)"
   ]
  },
  {
   "cell_type": "markdown",
   "id": "44a606f3",
   "metadata": {},
   "source": [
    "### Lets define a function which will use cross_val_score with evaluation matrix R-squared"
   ]
  },
  {
   "cell_type": "code",
   "execution_count": 22,
   "id": "d94b5812",
   "metadata": {},
   "outputs": [],
   "source": [
    "from sklearn.model_selection import cross_val_score\n",
    "def get_val_score(model):\n",
    "    scores = cross_val_score(model,X_train,y_train,cv=5,scoring='r2')\n",
    "    print('CV Mean: ', np.mean(scores))\n",
    "    print('STD: ', np.std(scores))\n",
    "    print('\\n')\n",
    "    "
   ]
  },
  {
   "cell_type": "markdown",
   "id": "a0dae5bc",
   "metadata": {},
   "source": [
    "## Training the algorithm\n",
    "\n",
    "### Now lets start training the dataset using the linear regression"
   ]
  },
  {
   "cell_type": "code",
   "execution_count": 23,
   "id": "7cb2028a",
   "metadata": {},
   "outputs": [
    {
     "name": "stdout",
     "output_type": "stream",
     "text": [
      "CV Mean:  0.9345411584974282\n",
      "STD:  0.024761639345468385\n",
      "\n",
      "\n"
     ]
    }
   ],
   "source": [
    "from sklearn.linear_model import LinearRegression\n",
    "#train the model\n",
    "model = LinearRegression(n_jobs=10)\n",
    "model.fit(X_train,y_train)\n",
    "\n",
    "#get cross val score\n",
    "get_val_score(model)"
   ]
  },
  {
   "cell_type": "markdown",
   "id": "661632e3",
   "metadata": {},
   "source": [
    "### Lets plot a line uing the regressor and check how accurate is this"
   ]
  },
  {
   "cell_type": "code",
   "execution_count": 24,
   "id": "40a0afdd",
   "metadata": {},
   "outputs": [
    {
     "data": {
      "image/png": "[encoded data removed]",
      "text/plain": [
       "<Figure size 432x288 with 1 Axes>"
      ]
     },
     "metadata": {
      "needs_background": "light"
     },
     "output_type": "display_data"
    }
   ],
   "source": [
    "line = model.coef_*X+model.intercept_\n",
    "plt.scatter(X,y)\n",
    "plt.plot(X,line)\n",
    "plt.show()"
   ]
  },
  {
   "cell_type": "markdown",
   "id": "d6969377",
   "metadata": {},
   "source": [
    "### Lets make some predictions"
   ]
  },
  {
   "cell_type": "code",
   "execution_count": 25,
   "id": "f9b0bf99",
   "metadata": {},
   "outputs": [
    {
     "name": "stdout",
     "output_type": "stream",
     "text": [
      "[17.30220982 34.05529402 75.44526674]\n"
     ]
    }
   ],
   "source": [
    "y_pred = model.predict(X_test)\n",
    "print(y_pred)"
   ]
  },
  {
   "cell_type": "code",
   "execution_count": 26,
   "id": "b93ece23",
   "metadata": {},
   "outputs": [
    {
     "data": {
      "text/html": [
       "<div>\n",
       "<style scoped>\n",
       "    .dataframe tbody tr th:only-of-type {\n",
       "        vertical-align: middle;\n",
       "    }\n",
       "\n",
       "    .dataframe tbody tr th {\n",
       "        vertical-align: top;\n",
       "    }\n",
       "\n",
       "    .dataframe thead th {\n",
       "        text-align: right;\n",
       "    }\n",
       "</style>\n",
       "<table border=\"1\" class=\"dataframe\">\n",
       "  <thead>\n",
       "    <tr style=\"text-align: right;\">\n",
       "      <th></th>\n",
       "      <th>Actual</th>\n",
       "      <th>Prediction</th>\n",
       "    </tr>\n",
       "  </thead>\n",
       "  <tbody>\n",
       "    <tr>\n",
       "      <th>0</th>\n",
       "      <td>20</td>\n",
       "      <td>17.302210</td>\n",
       "    </tr>\n",
       "    <tr>\n",
       "      <th>1</th>\n",
       "      <td>27</td>\n",
       "      <td>34.055294</td>\n",
       "    </tr>\n",
       "    <tr>\n",
       "      <th>2</th>\n",
       "      <td>69</td>\n",
       "      <td>75.445267</td>\n",
       "    </tr>\n",
       "  </tbody>\n",
       "</table>\n",
       "</div>"
      ],
      "text/plain": [
       "   Actual  Prediction\n",
       "0      20   17.302210\n",
       "1      27   34.055294\n",
       "2      69   75.445267"
      ]
     },
     "execution_count": 26,
     "metadata": {},
     "output_type": "execute_result"
    }
   ],
   "source": [
    "df = pd.DataFrame({\"Actual\":y_test,\"Prediction\":y_pred})\n",
    "df"
   ]
  },
  {
   "cell_type": "markdown",
   "id": "4b84c78c",
   "metadata": {},
   "source": [
    "## Metrics for calculating Error"
   ]
  },
  {
   "cell_type": "markdown",
   "id": "267cef0f",
   "metadata": {},
   "source": [
    "#### We know that accuracy is the most important entity for getting the performance of a model. But in case of **REGRESSION** accuracy is not possible so we try to minimize the errors. Hence, we calculate Error."
   ]
  },
  {
   "cell_type": "code",
   "execution_count": 27,
   "id": "472056d6",
   "metadata": {},
   "outputs": [
    {
     "name": "stdout",
     "output_type": "stream",
     "text": [
      "Mean Squared Error: 32.865569647342106\n",
      "Root mean squared error : 5.732850045774972\n",
      "Absolute Mean error: 5.3994503136120064\n"
     ]
    }
   ],
   "source": [
    "from sklearn.metrics import mean_absolute_error,mean_squared_error\n",
    "\n",
    "mean_squared_error_metrics = mean_squared_error(y_test,y_pred)\n",
    "RMSE = mean_squared_error(y_test,y_pred,squared=False)\n",
    "mean_absolute_error_metrics = mean_absolute_error(y_test,y_pred)\n",
    "\n",
    "print(\"Mean Squared Error: \"+str(mean_squared_error_metrics))\n",
    "print(\"Root mean squared error : \"+str(RMSE))\n",
    "print(\"Absolute Mean error: \"+str(mean_absolute_error_metrics))\n"
   ]
  },
  {
   "cell_type": "code",
   "execution_count": null,
   "id": "3da73705",
   "metadata": {},
   "outputs": [],
   "source": []
  }
 ],
 "metadata": {
  "kernelspec": {
   "display_name": "Python 3 (ipykernel)",
   "language": "python",
   "name": "python3"
  },
  "language_info": {
   "codemirror_mode": {
    "name": "ipython",
    "version": 3
   },
   "file_extension": ".py",
   "mimetype": "text/x-python",
   "name": "python",
   "nbconvert_exporter": "python",
   "pygments_lexer": "ipython3",
   "version": "3.9.7"
  }
 },
 "nbformat": 4,
 "nbformat_minor": 5
}
