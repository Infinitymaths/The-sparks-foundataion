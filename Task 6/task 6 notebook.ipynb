{
 "cells": [
  {
   "cell_type": "markdown",
   "id": "ff13d03f",
   "metadata": {},
   "source": [
    "# Author:- SHARATH DINESH\n",
    "## Task 6:- Prediction using Decision Tree Classifier\n",
    "In this task we are going to use _IRIS DATASET_ and then applying decision tree classfier to get the output. This also works for multiclass classification."
   ]
  },
  {
   "cell_type": "markdown",
   "id": "4211e7e4",
   "metadata": {},
   "source": [
    "## Importing the libraries and Dataset"
   ]
  },
  {
   "cell_type": "code",
   "execution_count": 2,
   "id": "33036dea",
   "metadata": {},
   "outputs": [],
   "source": [
    "from sklearn.datasets import load_iris\n",
    "from sklearn.tree import DecisionTreeClassifier,export_graphviz\n",
    "from sklearn import metrics\n",
    "from sklearn.model_selection import train_test_split\n",
    "\n",
    "import pandas as pd\n",
    "import numpy as np\n",
    "import matplotlib.pyplot as plt\n",
    "import seaborn as sns\n",
    "\n",
    "import pydot\n",
    "from IPython.display import Image"
   ]
  },
  {
   "cell_type": "markdown",
   "id": "cf5f46d9",
   "metadata": {},
   "source": [
    "## Loading the dataset"
   ]
  },
  {
   "cell_type": "code",
   "execution_count": 3,
   "id": "2671303e",
   "metadata": {},
   "outputs": [],
   "source": [
    "data = load_iris()\n",
    "X = data.data[:,:]\n",
    "y = data.target"
   ]
  },
  {
   "cell_type": "markdown",
   "id": "90aad4cb",
   "metadata": {},
   "source": [
    "## Data Analysis\n",
    "Lets do some data analysis!!!"
   ]
  },
  {
   "cell_type": "code",
   "execution_count": null,
   "id": "3a6cd2d0",
   "metadata": {},
   "outputs": [],
   "source": [
    "data_final = pd.DataFrame(data['data'],columns=['Petal Length','Petal Width','Sepal Length','Sepal Width'])\n",
    "data_final['Species'] = data['target']\n",
    "data_final['Species'] = data_final['Species'].apply(lambda x: data['target_names'][x])\n",
    "\n",
    "data_final.head()"
   ]
  },
  {
   "cell_type": "code",
   "execution_count": null,
   "id": "7119c678",
   "metadata": {},
   "outputs": [],
   "source": [
    "data['target_names'][0]"
   ]
  },
  {
   "cell_type": "markdown",
   "id": "fb4dbe91",
   "metadata": {},
   "source": [
    "## data_final.shape"
   ]
  },
  {
   "cell_type": "code",
   "execution_count": null,
   "id": "8f2a3478",
   "metadata": {},
   "outputs": [],
   "source": [
    "data_final.describe()"
   ]
  },
  {
   "cell_type": "markdown",
   "id": "9a3b6716",
   "metadata": {},
   "source": [
    "## Visualizing the data to get some information"
   ]
  },
  {
   "cell_type": "code",
   "execution_count": null,
   "id": "19dbd8b3",
   "metadata": {},
   "outputs": [],
   "source": [
    "#input data visualization\n",
    "sns.pairplot(data_final)"
   ]
  },
  {
   "cell_type": "code",
   "execution_count": null,
   "id": "2ab9004d",
   "metadata": {},
   "outputs": [],
   "source": [
    "# Scatter plot of data based on Sepal Length and Width features\n",
    "plt.figure(figsize=(20,20))\n",
    "sns.FacetGrid(data_final,hue='Species').map(plt.scatter,'Sepal Length','Sepal Width').add_legend()\n",
    "plt.show()"
   ]
  },
  {
   "cell_type": "code",
   "execution_count": null,
   "id": "747bbd5e",
   "metadata": {},
   "outputs": [],
   "source": [
    "# Scatter plot of data based on petal Length and Width features\n",
    "plt.figure(figsize=(20,20))\n",
    "sns.FacetGrid(data_final,hue='Species').map(plt.scatter,'Petal Length','Petal Width').add_legend()\n",
    "plt.show()"
   ]
  },
  {
   "cell_type": "markdown",
   "id": "c56e8c10",
   "metadata": {},
   "source": [
    "## Implementing the Decision Tree Classifier"
   ]
  },
  {
   "cell_type": "code",
   "execution_count": null,
   "id": "bfe51fce",
   "metadata": {},
   "outputs": [],
   "source": [
    "#Lets split the data\n",
    "X_train,X_test,y_train,y_test = train_test_split(X,y,test_size=0.2,random_state=0)\n",
    "model = DecisionTreeClassifier()\n",
    "model.fit(X_train,y_train)\n",
    "y_pred = model.predict(X_test)\n",
    "y_pred"
   ]
  },
  {
   "cell_type": "markdown",
   "id": "dd9f18c7",
   "metadata": {},
   "source": [
    "## Lets see the prediction and the actual value then check the accuracy"
   ]
  },
  {
   "cell_type": "code",
   "execution_count": null,
   "id": "b833153a",
   "metadata": {},
   "outputs": [],
   "source": [
    "testing = pd.DataFrame({'Actual':y_test,\"Predicted\":y_pred})\n"
   ]
  },
  {
   "cell_type": "code",
   "execution_count": null,
   "id": "d9d6a4b1",
   "metadata": {},
   "outputs": [],
   "source": [
    "print(\"Accuracy of the model: \",metrics.accuracy_score(y_test,y_pred))"
   ]
  },
  {
   "cell_type": "markdown",
   "id": "f60fe9b8",
   "metadata": {},
   "source": [
    "### Hurray!!! Thats a 100% accuracy"
   ]
  },
  {
   "cell_type": "markdown",
   "id": "63d701e9",
   "metadata": {},
   "source": [
    "## Visualizing the Decision Tree Classifier"
   ]
  },
  {
   "cell_type": "code",
   "execution_count": null,
   "id": "03318d67",
   "metadata": {},
   "outputs": [],
   "source": [
    "export_graphviz(model,out_file='decision_tree.dot',\n",
    "                feature_names=data.feature_names[:],\n",
    "               class_names=data.target_names,\n",
    "               rounded=True,\n",
    "               filled=True\n",
    "               )\n",
    "(graph,) = pydot.graph_from_dot_file('decision_tree.dot')\n",
    "graph.write_png('decision_tree.png')\n",
    "\n",
    "Image(filename='decision_tree.png')"
   ]
  },
  {
   "cell_type": "code",
   "execution_count": null,
   "id": "2d74977b",
   "metadata": {},
   "outputs": [],
   "source": [
    "# Estimating class probabilities\n",
    "print(\"Predicting probabilities for flower whose petal length and width is 4.7cm and 3.2cm respectively and sepal length and width are 1.3cm and 0.2cm respectively.\")\n",
    "print()\n",
    "ans = model.predict([[4.7, 3.2, 1.3, 0.2]])\n",
    "print(\"Our model predicts the class as 0, that is,\",data['target_names'][ans][0])"
   ]
  },
  {
   "cell_type": "markdown",
   "id": "026c7806",
   "metadata": {},
   "source": [
    "# Thats it for this _TASK_"
   ]
  }
 ],
 "metadata": {
  "kernelspec": {
   "display_name": "Python 3 (ipykernel)",
   "language": "python",
   "name": "python3"
  },
  "language_info": {
   "codemirror_mode": {
    "name": "ipython",
    "version": 3
   },
   "file_extension": ".py",
   "mimetype": "text/x-python",
   "name": "python",
   "nbconvert_exporter": "python",
   "pygments_lexer": "ipython3",
   "version": "3.9.7"
  }
 },
 "nbformat": 4,
 "nbformat_minor": 5
}
